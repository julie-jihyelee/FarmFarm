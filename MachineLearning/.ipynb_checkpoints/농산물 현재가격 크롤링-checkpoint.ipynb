{
 "cells": [
  {
   "cell_type": "code",
   "execution_count": 1,
   "id": "cb406e63",
   "metadata": {},
   "outputs": [
    {
     "name": "stdout",
     "output_type": "stream",
     "text": [
      "37920 11420 61780 21940 2586\n",
      "1896 1427 3089 1462 2586\n"
     ]
    }
   ],
   "source": [
    "import requests as req\n",
    "from bs4 import BeautifulSoup as bs\n",
    "\n",
    "url = 'https://www.kamis.or.kr/customer/main/main.do'\n",
    "res = req.get(url)\n",
    "soup = bs(res.text, 'lxml')\n",
    "\n",
    "gamja = soup.select('#tab_tbl01 > table > tbody > tr:nth-child(11) > td:nth-child(3)')[0].text #20kg\n",
    "gamja = gamja.replace(',','')\n",
    "gamja = int(gamja)\n",
    "today_gamja = gamja//20\n",
    "\n",
    "yangbaechoo = soup.select('#tab_tbl02 > table > tbody > tr:nth-child(2) > td:nth-child(3)')[0].text #8kg\n",
    "yangbaechoo = yangbaechoo.replace(',','')\n",
    "yangbaechoo = int(yangbaechoo)\n",
    "today_yangbaechoo = yangbaechoo//8\n",
    "\n",
    "danggeun = soup.select('#tab_tbl02 > table > tbody > tr:nth-child(17) > td:nth-child(3)')[0].text #20kg\n",
    "danggeun = danggeun.replace(',','')\n",
    "danggeun = int(danggeun)\n",
    "today_danggeun = danggeun//20\n",
    "\n",
    "yangpa = soup.select('#tab_tbl02 > table > tbody > tr:nth-child(30) > td:nth-child(3)')[0].text #15kg\n",
    "yangpa = yangpa.replace(',','')\n",
    "yangpa = int(yangpa)\n",
    "today_yangpa = yangpa//15\n",
    "\n",
    "daepa = soup.select('#tab_tbl02 > table > tbody > tr:nth-child(31) > td:nth-child(3)')[0].text #1kg\n",
    "daepa = daepa.replace(',','')\n",
    "today_daepa = int(daepa)\n",
    "\n",
    "print(gamja, yangbaechoo, danggeun, yangpa, daepa)\n",
    "print(today_gamja, today_yangbaechoo, today_danggeun, today_yangpa, today_daepa)"
   ]
  },
  {
   "cell_type": "code",
   "execution_count": null,
   "id": "d226fd37",
   "metadata": {},
   "outputs": [],
   "source": []
  }
 ],
 "metadata": {
  "kernelspec": {
   "display_name": "Python 3 (ipykernel)",
   "language": "python",
   "name": "python3"
  },
  "language_info": {
   "codemirror_mode": {
    "name": "ipython",
    "version": 3
   },
   "file_extension": ".py",
   "mimetype": "text/x-python",
   "name": "python",
   "nbconvert_exporter": "python",
   "pygments_lexer": "ipython3",
   "version": "3.8.0"
  }
 },
 "nbformat": 4,
 "nbformat_minor": 5
}
