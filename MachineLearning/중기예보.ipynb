{
 "cells": [
  {
   "cell_type": "markdown",
   "id": "2b5f560f",
   "metadata": {},
   "source": [
    "#### 인증키"
   ]
  },
  {
   "cell_type": "code",
   "execution_count": null,
   "id": "7868e7c4",
   "metadata": {},
   "outputs": [],
   "source": [
    "6v2jnKiXW6qdXR2m8iS0XLs%2FcS34X1Qwt6E5VNsrWRaIA3aCBFBrXjpHpIg4c%2BztHNIbMMRxJ19AQmsvnBN1Dg%3D%3D"
   ]
  },
  {
   "cell_type": "code",
   "execution_count": null,
   "id": "242ae066",
   "metadata": {},
   "outputs": [],
   "source": []
  },
  {
   "cell_type": "markdown",
   "id": "a722cdba",
   "metadata": {},
   "source": [
    "#### url 정보\n",
    "- numOfRows\n",
    "    - 한 페이지 결과 수\n",
    "    - Default: 10\n",
    "    <br><br>\n",
    "\n",
    "- pageNo \n",
    "    - 페이지 번호\n",
    "    - Default: 1\n",
    "    <br><br>\n",
    "    \n",
    "- dataType\n",
    "    - 요청자료형식(XML/JSON)\n",
    "    - Default: XML\n",
    "    <br><br>\n",
    "    \n",
    "- regId \n",
    "    - 예보구역코드\n",
    "    - 감자(평창)\t11D10503\n",
    "    - 당근(밀양)\t11H20601\n",
    "    - 대파(홍천)\t11D10302\n",
    "    - 양배추(강릉)\t11D20501\n",
    "    - 양파(무안)\t21F20804\n",
    "    <br><br>\n",
    "    \n",
    "- tmFc \n",
    "    - 발표시각\n",
    "    - 일 2회(06:00,18:00)회 생성 되며 발표시각을 입력\n",
    "    - 최근 24시간 자료만 제공\n"
   ]
  },
  {
   "cell_type": "code",
   "execution_count": 2,
   "id": "58dfb789",
   "metadata": {},
   "outputs": [],
   "source": [
    "# numOfRows = 한 페이지 결과 수 Default: 10\n",
    "# pageNo = 페이지 번호 Default: 1\n",
    "# dataType = 요청자료형식(XML/JSON) Default: XML\n",
    "# regId = 예보구역코드\n",
    "# tmFc = 발표시각, -일 2회(06:00,18:00)회 생성 되며 발표시각을 입력 -최근 24시간 자료만 제공\n",
    "\n",
    "url = 'http://apis.data.go.kr/1360000/MidFcstInfoService/getMidTa?serviceKey=6v2jnKiXW6qdXR2m8iS0XLs%2FcS34X1Qwt6E5VNsrWRaIA3aCBFBrXjpHpIg4c%2BztHNIbMMRxJ19AQmsvnBN1Dg%3D%3D&numOfRows=10&pageNo=1&regId=11D20501&tmFc=202308010600'"
   ]
  },
  {
   "cell_type": "code",
   "execution_count": 2,
   "id": "9860f775",
   "metadata": {},
   "outputs": [],
   "source": []
  },
  {
   "cell_type": "code",
   "execution_count": 2,
   "id": "e6e9a370",
   "metadata": {
    "scrolled": true
   },
   "outputs": [
    {
     "data": {
      "text/html": [
       "<div>\n",
       "<style scoped>\n",
       "    .dataframe tbody tr th:only-of-type {\n",
       "        vertical-align: middle;\n",
       "    }\n",
       "\n",
       "    .dataframe tbody tr th {\n",
       "        vertical-align: top;\n",
       "    }\n",
       "\n",
       "    .dataframe thead th {\n",
       "        text-align: right;\n",
       "    }\n",
       "</style>\n",
       "<table border=\"1\" class=\"dataframe\">\n",
       "  <thead>\n",
       "    <tr style=\"text-align: right;\">\n",
       "      <th></th>\n",
       "      <th>0</th>\n",
       "      <th>1</th>\n",
       "    </tr>\n",
       "  </thead>\n",
       "  <tbody>\n",
       "    <tr>\n",
       "      <th>0</th>\n",
       "      <td>20</td>\n",
       "      <td>29</td>\n",
       "    </tr>\n",
       "    <tr>\n",
       "      <th>1</th>\n",
       "      <td>24</td>\n",
       "      <td>32</td>\n",
       "    </tr>\n",
       "    <tr>\n",
       "      <th>2</th>\n",
       "      <td>22</td>\n",
       "      <td>31</td>\n",
       "    </tr>\n",
       "    <tr>\n",
       "      <th>3</th>\n",
       "      <td>24</td>\n",
       "      <td>29</td>\n",
       "    </tr>\n",
       "    <tr>\n",
       "      <th>4</th>\n",
       "      <td>24</td>\n",
       "      <td>31</td>\n",
       "    </tr>\n",
       "  </tbody>\n",
       "</table>\n",
       "</div>"
      ],
      "text/plain": [
       "    0   1\n",
       "0  20  29\n",
       "1  24  32\n",
       "2  22  31\n",
       "3  24  29\n",
       "4  24  31"
      ]
     },
     "execution_count": 2,
     "metadata": {},
     "output_type": "execute_result"
    }
   ],
   "source": [
    "import requests\n",
    "import json\n",
    "import pandas as pd\n",
    "\n",
    "local_code = ['11D10503', '11H20601', '11D10302', '11D20501', '21F20804']\n",
    "temp = []\n",
    "\n",
    "for i in local_code:\n",
    "    url = f'http://apis.data.go.kr/1360000/MidFcstInfoService/getMidTa?serviceKey=6v2jnKiXW6qdXR2m8iS0XLs%2FcS34X1Qwt6E5VNsrWRaIA3aCBFBrXjpHpIg4c%2BztHNIbMMRxJ19AQmsvnBN1Dg%3D%3D&numOfRows=10&pageNo=1&dataType=JSON&regId={i}&tmFc=202308170600'    \n",
    "    response = requests.get(url)\n",
    "    contents = response.text\n",
    "    json_ob = json.loads(contents)\n",
    "    df = json_ob['response']['body']['items']['item'][0]\n",
    "    df_list = [df['taMin7'], df['taMax7']]\n",
    "    temp.append(df_list)\n",
    "pd.DataFrame(temp)\n",
    "# 감자, 당근, 대파, 양배추, 양파"
   ]
  },
  {
   "cell_type": "code",
   "execution_count": 11,
   "id": "e02b723a",
   "metadata": {},
   "outputs": [
    {
     "data": {
      "text/plain": [
       "{'response': {'header': {'resultCode': '99',\n",
       "   'resultMsg': '최대 조회 기간은 오늘 기준으로 1일 전까지입니다.'}}}"
      ]
     },
     "execution_count": 11,
     "metadata": {},
     "output_type": "execute_result"
    }
   ],
   "source": [
    "json_ob"
   ]
  },
  {
   "cell_type": "code",
   "execution_count": null,
   "id": "1c7dcbfc",
   "metadata": {},
   "outputs": [],
   "source": []
  },
  {
   "cell_type": "code",
   "execution_count": null,
   "id": "0f3a19ab",
   "metadata": {},
   "outputs": [],
   "source": []
  },
  {
   "cell_type": "code",
   "execution_count": null,
   "id": "24995f52",
   "metadata": {},
   "outputs": [],
   "source": []
  },
  {
   "cell_type": "code",
   "execution_count": 13,
   "id": "3c0d18f8",
   "metadata": {},
   "outputs": [
    {
     "data": {
      "text/html": [
       "<div>\n",
       "<style scoped>\n",
       "    .dataframe tbody tr th:only-of-type {\n",
       "        vertical-align: middle;\n",
       "    }\n",
       "\n",
       "    .dataframe tbody tr th {\n",
       "        vertical-align: top;\n",
       "    }\n",
       "\n",
       "    .dataframe thead th {\n",
       "        text-align: right;\n",
       "    }\n",
       "</style>\n",
       "<table border=\"1\" class=\"dataframe\">\n",
       "  <thead>\n",
       "    <tr style=\"text-align: right;\">\n",
       "      <th></th>\n",
       "      <th>0</th>\n",
       "      <th>1</th>\n",
       "    </tr>\n",
       "  </thead>\n",
       "  <tbody>\n",
       "    <tr>\n",
       "      <th>0</th>\n",
       "      <td>21</td>\n",
       "      <td>30</td>\n",
       "    </tr>\n",
       "    <tr>\n",
       "      <th>1</th>\n",
       "      <td>25</td>\n",
       "      <td>34</td>\n",
       "    </tr>\n",
       "    <tr>\n",
       "      <th>2</th>\n",
       "      <td>24</td>\n",
       "      <td>31</td>\n",
       "    </tr>\n",
       "    <tr>\n",
       "      <th>3</th>\n",
       "      <td>24</td>\n",
       "      <td>31</td>\n",
       "    </tr>\n",
       "    <tr>\n",
       "      <th>4</th>\n",
       "      <td>23</td>\n",
       "      <td>31</td>\n",
       "    </tr>\n",
       "  </tbody>\n",
       "</table>\n",
       "</div>"
      ],
      "text/plain": [
       "    0   1\n",
       "0  21  30\n",
       "1  25  34\n",
       "2  24  31\n",
       "3  24  31\n",
       "4  23  31"
      ]
     },
     "execution_count": 13,
     "metadata": {},
     "output_type": "execute_result"
    }
   ],
   "source": []
  },
  {
   "cell_type": "code",
   "execution_count": 98,
   "id": "4f1115a5",
   "metadata": {},
   "outputs": [],
   "source": [
    "data3 = json_ob['response']['body']['items']['item'][0]"
   ]
  },
  {
   "cell_type": "code",
   "execution_count": 131,
   "id": "0cdb1f89",
   "metadata": {},
   "outputs": [],
   "source": [
    "data3_list = [data3['taMin7'], data3['taMax7']]"
   ]
  },
  {
   "cell_type": "code",
   "execution_count": 132,
   "id": "04131d8d",
   "metadata": {},
   "outputs": [
    {
     "data": {
      "text/plain": [
       "[24, 33]"
      ]
     },
     "execution_count": 132,
     "metadata": {},
     "output_type": "execute_result"
    }
   ],
   "source": [
    "data3_list"
   ]
  },
  {
   "cell_type": "code",
   "execution_count": 111,
   "id": "b617b894",
   "metadata": {},
   "outputs": [
    {
     "data": {
      "text/html": [
       "<div>\n",
       "<style scoped>\n",
       "    .dataframe tbody tr th:only-of-type {\n",
       "        vertical-align: middle;\n",
       "    }\n",
       "\n",
       "    .dataframe tbody tr th {\n",
       "        vertical-align: top;\n",
       "    }\n",
       "\n",
       "    .dataframe thead th {\n",
       "        text-align: right;\n",
       "    }\n",
       "</style>\n",
       "<table border=\"1\" class=\"dataframe\">\n",
       "  <thead>\n",
       "    <tr style=\"text-align: right;\">\n",
       "      <th></th>\n",
       "      <th>평창</th>\n",
       "    </tr>\n",
       "  </thead>\n",
       "  <tbody>\n",
       "    <tr>\n",
       "      <th>0</th>\n",
       "      <td>24</td>\n",
       "    </tr>\n",
       "    <tr>\n",
       "      <th>1</th>\n",
       "      <td>33</td>\n",
       "    </tr>\n",
       "  </tbody>\n",
       "</table>\n",
       "</div>"
      ],
      "text/plain": [
       "   평창\n",
       "0  24\n",
       "1  33"
      ]
     },
     "execution_count": 111,
     "metadata": {},
     "output_type": "execute_result"
    }
   ],
   "source": [
    "pd.DataFrame(data3_list)"
   ]
  },
  {
   "cell_type": "code",
   "execution_count": 7,
   "id": "aee31ba6",
   "metadata": {
    "scrolled": true
   },
   "outputs": [
    {
     "ename": "KeyError",
     "evalue": "'body'",
     "output_type": "error",
     "traceback": [
      "\u001b[0;31m---------------------------------------------------------------------------\u001b[0m",
      "\u001b[0;31mKeyError\u001b[0m                                  Traceback (most recent call last)",
      "Cell \u001b[0;32mIn[7], line 5\u001b[0m\n\u001b[1;32m      3\u001b[0m contents \u001b[38;5;241m=\u001b[39m response\u001b[38;5;241m.\u001b[39mtext\n\u001b[1;32m      4\u001b[0m json_ob \u001b[38;5;241m=\u001b[39m json\u001b[38;5;241m.\u001b[39mloads(contents)\n\u001b[0;32m----> 5\u001b[0m body \u001b[38;5;241m=\u001b[39m \u001b[43mjson_ob\u001b[49m\u001b[43m[\u001b[49m\u001b[38;5;124;43m'\u001b[39;49m\u001b[38;5;124;43mresponse\u001b[39;49m\u001b[38;5;124;43m'\u001b[39;49m\u001b[43m]\u001b[49m\u001b[43m[\u001b[49m\u001b[38;5;124;43m'\u001b[39;49m\u001b[38;5;124;43mbody\u001b[39;49m\u001b[38;5;124;43m'\u001b[39;49m\u001b[43m]\u001b[49m[\u001b[38;5;124m'\u001b[39m\u001b[38;5;124mitems\u001b[39m\u001b[38;5;124m'\u001b[39m]\n",
      "\u001b[0;31mKeyError\u001b[0m: 'body'"
     ]
    }
   ],
   "source": [
    "url = f'http://apis.data.go.kr/1360000/MidFcstInfoService/getMidTa?serviceKey=6v2jnKiXW6qdXR2m8iS0XLs%2FcS34X1Qwt6E5VNsrWRaIA3aCBFBrXjpHpIg4c%2BztHNIbMMRxJ19AQmsvnBN1Dg%3D%3D&numOfRows=10&pageNo=1&dataType=JSON&regId=11D10503&tmFc=202308010600'    \n",
    "response = requests.get(url)\n",
    "contents = response.text\n",
    "json_ob = json.loads(contents)\n",
    "body = json_ob['response']['body']['items']"
   ]
  },
  {
   "cell_type": "code",
   "execution_count": 8,
   "id": "021f7a3f",
   "metadata": {},
   "outputs": [
    {
     "ename": "NameError",
     "evalue": "name 'body' is not defined",
     "output_type": "error",
     "traceback": [
      "\u001b[0;31m---------------------------------------------------------------------------\u001b[0m",
      "\u001b[0;31mNameError\u001b[0m                                 Traceback (most recent call last)",
      "Cell \u001b[0;32mIn[8], line 1\u001b[0m\n\u001b[0;32m----> 1\u001b[0m data \u001b[38;5;241m=\u001b[39m \u001b[43mbody\u001b[49m[\u001b[38;5;124m'\u001b[39m\u001b[38;5;124mitem\u001b[39m\u001b[38;5;124m'\u001b[39m]\n",
      "\u001b[0;31mNameError\u001b[0m: name 'body' is not defined"
     ]
    }
   ],
   "source": [
    "data = body['item']"
   ]
  },
  {
   "cell_type": "code",
   "execution_count": 64,
   "id": "e1f07141",
   "metadata": {},
   "outputs": [],
   "source": [
    "data2 = data[0]"
   ]
  },
  {
   "cell_type": "code",
   "execution_count": 65,
   "id": "e4b06d37",
   "metadata": {},
   "outputs": [
    {
     "data": {
      "text/html": [
       "<div>\n",
       "<style scoped>\n",
       "    .dataframe tbody tr th:only-of-type {\n",
       "        vertical-align: middle;\n",
       "    }\n",
       "\n",
       "    .dataframe tbody tr th {\n",
       "        vertical-align: top;\n",
       "    }\n",
       "\n",
       "    .dataframe thead th {\n",
       "        text-align: right;\n",
       "    }\n",
       "</style>\n",
       "<table border=\"1\" class=\"dataframe\">\n",
       "  <thead>\n",
       "    <tr style=\"text-align: right;\">\n",
       "      <th></th>\n",
       "      <th>최고기온</th>\n",
       "      <th>최저기온</th>\n",
       "    </tr>\n",
       "  </thead>\n",
       "  <tbody>\n",
       "    <tr>\n",
       "      <th>0</th>\n",
       "      <td>31</td>\n",
       "      <td>22</td>\n",
       "    </tr>\n",
       "  </tbody>\n",
       "</table>\n",
       "</div>"
      ],
      "text/plain": [
       "   최고기온  최저기온\n",
       "0    31    22"
      ]
     },
     "execution_count": 65,
     "metadata": {},
     "output_type": "execute_result"
    }
   ],
   "source": [
    "pd.DataFrame({'최고기온' : [data2['taMax7']], '최저기온' : [data2['taMin7']]})"
   ]
  },
  {
   "cell_type": "code",
   "execution_count": null,
   "id": "2d3e20b3",
   "metadata": {},
   "outputs": [],
   "source": []
  },
  {
   "cell_type": "code",
   "execution_count": null,
   "id": "6e2bc906",
   "metadata": {},
   "outputs": [],
   "source": []
  }
 ],
 "metadata": {
  "kernelspec": {
   "display_name": "Python 3 (ipykernel)",
   "language": "python",
   "name": "python3"
  },
  "language_info": {
   "codemirror_mode": {
    "name": "ipython",
    "version": 3
   },
   "file_extension": ".py",
   "mimetype": "text/x-python",
   "name": "python",
   "nbconvert_exporter": "python",
   "pygments_lexer": "ipython3",
   "version": "3.8.0"
  }
 },
 "nbformat": 4,
 "nbformat_minor": 5
}
